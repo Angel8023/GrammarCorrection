{
 "cells": [
  {
   "cell_type": "code",
   "execution_count": 0,
   "metadata": {
    "id": "-1KACw-2bfSa",
    "colab_type": "code",
    "colab": {
     "autoexec": {
      "startup": false,
      "wait_interval": 0.0
     }
    }
   },
   "outputs": [],
   "source": [
    "!git clone https://github.com/hadifar/GrammarCorrection.git"
   ]
  },
  {
   "cell_type": "code",
   "execution_count": 0,
   "metadata": {
    "id": "AjL003-wsZ38",
    "colab_type": "code",
    "colab": {
     "autoexec": {
      "startup": false,
      "wait_interval": 0.0
     }
    }
   },
   "outputs": [],
   "source": [
    "# Install a Drive FUSE wrapper.\n",
    "# https://github.com/astrada/google-drive-ocamlfuse\n",
    "!apt-get update -qq 2>&1 > /dev/null\n",
    "!apt-get install -y -qq software-properties-common python-software-properties module-init-tools\n",
    "!add-apt-repository -y ppa:alessandro-strada/ppa 2>&1 > /dev/null\n",
    "!apt-get update -qq 2>&1 > /dev/null\n",
    "!apt-get -y install -qq google-drive-ocamlfuse fuse"
   ]
  },
  {
   "cell_type": "code",
   "execution_count": 0,
   "metadata": {
    "id": "qpJvlxGDW3xi",
    "colab_type": "code",
    "colab": {
     "autoexec": {
      "startup": false,
      "wait_interval": 0.0
     }
    }
   },
   "outputs": [],
   "source": [
    "# Generate auth tokens for Colab\n",
    "from google.colab import auth\n",
    "auth.authenticate_user()"
   ]
  },
  {
   "cell_type": "code",
   "execution_count": 7,
   "metadata": {
    "id": "sOi5Mu_3W6pA",
    "colab_type": "code",
    "colab": {
     "autoexec": {
      "startup": false,
      "wait_interval": 0.0
     },
     "base_uri": "https://localhost:8080/",
     "height": 122.0
    },
    "outputId": "871e70ff-7bf2-40ab-96b9-e6748459c034",
    "executionInfo": {
     "status": "ok",
     "timestamp": 1.532118229715E12,
     "user_tz": -270.0,
     "elapsed": 21101.0,
     "user": {
      "displayName": "Amir Hadifar",
      "photoUrl": "//lh3.googleusercontent.com/-m3Hofiwc-SA/AAAAAAAAAAI/AAAAAAAAAzM/ILPW_9MdTNM/s50-c-k-no/photo.jpg",
      "userId": "110375345208256873423"
     }
    }
   },
   "outputs": [
    {
     "name": "stdout",
     "output_type": "stream",
     "text": [
      "Please, open the following URL in a web browser: https://accounts.google.com/o/oauth2/auth?client_id=32555940559.apps.googleusercontent.com&redirect_uri=urn%3Aietf%3Awg%3Aoauth%3A2.0%3Aoob&scope=https%3A%2F%2Fwww.googleapis.com%2Fauth%2Fdrive&response_type=code&access_type=offline&approval_prompt=force\n",
      "\n",
      "Enter verification code: ··········\n",
      "Please, open the following URL in a web browser: https://accounts.google.com/o/oauth2/auth?client_id=32555940559.apps.googleusercontent.com&redirect_uri=urn%3Aietf%3Awg%3Aoauth%3A2.0%3Aoob&scope=https%3A%2F%2Fwww.googleapis.com%2Fauth%2Fdrive&response_type=code&access_type=offline&approval_prompt=force\n",
      "Please enter the verification code: Access token retrieved correctly.\n"
     ]
    }
   ],
   "source": [
    "# Generate creds for the Drive FUSE library.\n",
    "from oauth2client.client import GoogleCredentials\n",
    "creds = GoogleCredentials.get_application_default()\n",
    "import getpass\n",
    "# Work around misordering of STREAM and STDIN in Jupyter.\n",
    "# https://github.com/jupyter/notebook/issues/3159\n",
    "prompt = !google-drive-ocamlfuse -headless -id={creds.client_id} -secret={creds.client_secret} < /dev/null 2>&1 | grep URL\n",
    "vcode = getpass.getpass(prompt[0] + '\\n\\nEnter verification code: ')\n",
    "!echo {vcode} | google-drive-ocamlfuse -headless -id={creds.client_id} -secret={creds.client_secret}"
   ]
  },
  {
   "cell_type": "code",
   "execution_count": 10,
   "metadata": {
    "id": "qZCJ5xkGW9gy",
    "colab_type": "code",
    "colab": {
     "autoexec": {
      "startup": false,
      "wait_interval": 0.0
     },
     "base_uri": "https://localhost:8080/",
     "height": 102.0
    },
    "outputId": "3f527cac-2c49-4c61-c16c-c181df5ac132",
    "executionInfo": {
     "status": "ok",
     "timestamp": 1.532118315464E12,
     "user_tz": -270.0,
     "elapsed": 5939.0,
     "user": {
      "displayName": "Amir Hadifar",
      "photoUrl": "//lh3.googleusercontent.com/-m3Hofiwc-SA/AAAAAAAAAAI/AAAAAAAAAzM/ILPW_9MdTNM/s50-c-k-no/photo.jpg",
      "userId": "110375345208256873423"
     }
    }
   },
   "outputs": [
    {
     "name": "stdout",
     "output_type": "stream",
     "text": [
      "fuse: mountpoint is not empty\r\n",
      "fuse: if you are sure this is safe, use the 'nonempty' mount option\r\n",
      "Files in Drive:\n",
      "drive/grammar/final-train.tok.trg\n",
      "drive/grammar/final-train.tok.trg\n"
     ]
    }
   ],
   "source": [
    "!mkdir -p drive\n",
    "!google-drive-ocamlfuse drive\n",
    "\n",
    "print ('Files in Drive:')\n",
    "!ls drive/\n",
    "!ls drive/grammar/"
   ]
  },
  {
   "cell_type": "code",
   "execution_count": 0,
   "metadata": {
    "id": "9oapuEmCXj05",
    "colab_type": "code",
    "colab": {
     "autoexec": {
      "startup": false,
      "wait_interval": 0.0
     }
    }
   },
   "outputs": [],
   "source": [
    "!ls GrammarCorrection\n",
    "\n",
    "!python GrammarCorrection/train/prepare_data.py --text_A=\"drive/grammar/final-train.tok.trg\" --text_B=\"drive/grammar/final-train.tok.src\" --out_file=\"drive/grammar/trg_src_prepped.h5\"\n"
   ]
  },
  {
   "cell_type": "code",
   "execution_count": 30,
   "metadata": {
    "id": "cxHC28Ngbp3q",
    "colab_type": "code",
    "colab": {
     "autoexec": {
      "startup": false,
      "wait_interval": 0.0
     },
     "base_uri": "https://localhost:8080/",
     "height": 68.0
    },
    "outputId": "e94a2d69-6c20-42d3-9821-3f463e54f1d1",
    "executionInfo": {
     "status": "ok",
     "timestamp": 1.532119569178E12,
     "user_tz": -270.0,
     "elapsed": 4046.0,
     "user": {
      "displayName": "Amir Hadifar",
      "photoUrl": "//lh3.googleusercontent.com/-m3Hofiwc-SA/AAAAAAAAAAI/AAAAAAAAAzM/ILPW_9MdTNM/s50-c-k-no/photo.jpg",
      "userId": "110375345208256873423"
     }
    }
   },
   "outputs": [
    {
     "name": "stdout",
     "output_type": "stream",
     "text": [
      "final-train.tok.src  final-train.tok.trg  trg_src_prepped.h5  weights\n",
      "mkdir: cannot create directory ‘drive/grammar/weights/’: File exists\n",
      "final-train.tok.src  final-train.tok.trg  trg_src_prepped.h5  weights\n"
     ]
    }
   ],
   "source": [
    "!ls drive/grammar/\n",
    "!mkdir drive/grammar/weights/\n",
    "!ls drive/grammar"
   ]
  },
  {
   "cell_type": "code",
   "execution_count": 0,
   "metadata": {
    "id": "K8w_YbsJb286",
    "colab_type": "code",
    "colab": {
     "autoexec": {
      "startup": false,
      "wait_interval": 0.0
     }
    }
   },
   "outputs": [],
   "source": [
    "!python GrammarCorrection/train/train.py --dataset=\"drive/grammar/trg_src_prepped.h5\" --weights_path=\"drive/grammar/weigths/KerasAttentionNMT.h5\""
   ]
  },
  {
   "cell_type": "code",
   "execution_count": 0,
   "metadata": {
    "id": "1Bx_DUuHcgX1",
    "colab_type": "code",
    "colab": {
     "autoexec": {
      "startup": false,
      "wait_interval": 0.0
     }
    }
   },
   "outputs": [],
   "source": [
    "!python GrammarCorrection/train/predict.py --dataset=\"drive/grammar/trg_src_prepped.h5\" --weights_path=\"drive/grammar/weigths/KerasAttentionNMT.h5\""
   ]
  }
 ],
 "metadata": {
  "colab": {
   "name": "riminder2.ipynb",
   "version": "0.3.2",
   "views": {},
   "default_view": {},
   "provenance": []
  },
  "kernelspec": {
   "name": "python3",
   "display_name": "Python 3"
  }
 },
 "nbformat": 4,
 "nbformat_minor": 0
}
